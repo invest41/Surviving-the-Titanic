{
  "nbformat": 4,
  "nbformat_minor": 0,
  "metadata": {
    "colab": {
      "name": "Titanic Survival.ipynb",
      "provenance": [],
      "collapsed_sections": [],
      "authorship_tag": "ABX9TyPO4MXaZAyh5GjV7u+9tbEq",
      "include_colab_link": true
    },
    "kernelspec": {
      "name": "python3",
      "display_name": "Python 3"
    }
  },
  "cells": [
    {
      "cell_type": "markdown",
      "metadata": {
        "id": "view-in-github",
        "colab_type": "text"
      },
      "source": [
        "<a href=\"https://colab.research.google.com/github/invest41/Surviving-the-Titanic/blob/main/Titanic_Survival.ipynb\" target=\"_parent\"><img src=\"https://colab.research.google.com/assets/colab-badge.svg\" alt=\"Open In Colab\"/></a>"
      ]
    },
    {
      "cell_type": "code",
      "metadata": {
        "id": "tnXYaBqq5nNd",
        "colab": {
          "base_uri": "https://localhost:8080/"
        },
        "outputId": "97e96959-2cb7-4c9f-fda4-1762f0331bf3"
      },
      "source": [
        "#6:08am 14-02-2021\n",
        "import pandas as pd, numpy as np, seaborn as sns\n",
        "import matplotlib.pyplot as plt\n",
        "%matplotlib inline\n",
        "from sklearn.tree import DecisionTreeClassifier as DTC\n",
        "from sklearn.naive_bayes import GaussianNB as GNB\n",
        "\n",
        "from sklearn.metrics import accuracy_score as acsc\n",
        "from sklearn.model_selection import train_test_split as tts\n",
        "import joblib, time\n",
        "print('Library Import Complete...')"
      ],
      "execution_count": 63,
      "outputs": [
        {
          "output_type": "stream",
          "text": [
            "Library Import Complete...\n"
          ],
          "name": "stdout"
        }
      ]
    },
    {
      "cell_type": "code",
      "metadata": {
        "colab": {
          "base_uri": "https://localhost:8080/"
        },
        "id": "itDfF_7N6bl-",
        "outputId": "31929cb3-eac1-4fed-d2dc-56fcef08c703"
      },
      "source": [
        "#6:12am 14-02-2021\n",
        "#Training Model\n",
        "\n",
        "#1.0\n",
        "df = pd.read_csv('train.csv')\n",
        "\n",
        "#2.0 - Represent the Dimorphic Sex\n",
        "df['Sex'][df['Sex']=='male'], df['Sex'][df['Sex']=='female'] = 1, 0\n",
        "\n",
        "#3.0 - Label Datasets\n",
        "X = df[['Pclass','Sex','Age','SibSp','Parch','Fare']]\n",
        "Y = df[['Survived']]\n",
        "\n",
        "#4.0 - Circumvent Null Error (Data Cleaning)\n",
        "X['Age'][X[X['Age'].isnull()].index] = 0\n",
        "\n",
        "\n",
        "\n",
        "#5.0\n",
        "m1 = m2 = mt = count = 0\n",
        "tick = time.time()\n",
        "while True:\n",
        " #X1,X2,Y1,Y2 = tts(X,Y)\n",
        " if (m1 == 1 or m2==1) and mt==0: \n",
        "   print(f'{count} Trial(s)')\n",
        "   mt=1\n",
        " count+=1\n",
        " model1 = DTC()\n",
        " model1.fit(X,Y)\n",
        "\n",
        " model2 = GNB()\n",
        " model2.fit(X,Y['Survived'])\n",
        "\n",
        " #Regurgitative Prediction\n",
        " pred1 = model1.predict(X)\n",
        " pred2 = model2.predict(X)\n",
        " \n",
        " score1 = round(((acsc(Y,pred1))*100),1)\n",
        " score2 = round(((acsc(Y,pred1))*100),1)\n",
        " \n",
        " if score1>60 and m1==0:\n",
        "   m1+=1\n",
        "   tickk = time.time()\n",
        "   print(f'Data Size: {X.size} people\\nDecision Tree Accuracy: {score1}%\\nTime: {round(((tickk-tick)*1000),2)}ms')\n",
        "   joblib.dump(model1,'titanic-survival_DTC.joblib')\n",
        " if score2>60 and m2==0:\n",
        "   m2+=1\n",
        "   tock = time.time()\n",
        "   print(f'\\nData Size: {X.size} people\\nGausian NB Accuracy: {score2}%\\nTime: {round(((tock-tick)*1000),2)}ms')\n",
        "   joblib.dump(model2,'titanic-survival_GNB.joblib')\n",
        " if m1==m2==1: \n",
        "   print(f'\\n{count} Trial(s)\\n\\n\\n')\n",
        "   break\n",
        "\n",
        "\n"
      ],
      "execution_count": 86,
      "outputs": [
        {
          "output_type": "stream",
          "text": [
            "Data Size: 5346 people\n",
            "Decision Tree Accuracy: 98.2%\n",
            "Time: 9.42ms\n",
            "\n",
            "Data Size: 5346 people\n",
            "Gausian NB Accuracy: 98.2%\n",
            "Time: 11.35ms\n",
            "\n",
            "1 Trial(s)\n",
            "\n",
            "\n",
            "\n"
          ],
          "name": "stdout"
        },
        {
          "output_type": "stream",
          "text": [
            "/usr/local/lib/python3.6/dist-packages/ipykernel_launcher.py:8: SettingWithCopyWarning: \n",
            "A value is trying to be set on a copy of a slice from a DataFrame\n",
            "\n",
            "See the caveats in the documentation: https://pandas.pydata.org/pandas-docs/stable/user_guide/indexing.html#returning-a-view-versus-a-copy\n",
            "  \n",
            "/usr/local/lib/python3.6/dist-packages/ipykernel_launcher.py:15: SettingWithCopyWarning: \n",
            "A value is trying to be set on a copy of a slice from a DataFrame\n",
            "\n",
            "See the caveats in the documentation: https://pandas.pydata.org/pandas-docs/stable/user_guide/indexing.html#returning-a-view-versus-a-copy\n",
            "  from ipykernel import kernelapp as app\n",
            "/usr/local/lib/python3.6/dist-packages/pandas/core/series.py:1060: SettingWithCopyWarning: \n",
            "A value is trying to be set on a copy of a slice from a DataFrame\n",
            "\n",
            "See the caveats in the documentation: https://pandas.pydata.org/pandas-docs/stable/user_guide/indexing.html#returning-a-view-versus-a-copy\n",
            "  self._set_labels(key, value)\n",
            "/usr/local/lib/python3.6/dist-packages/IPython/core/interactiveshell.py:2882: SettingWithCopyWarning: \n",
            "A value is trying to be set on a copy of a slice from a DataFrame\n",
            "\n",
            "See the caveats in the documentation: https://pandas.pydata.org/pandas-docs/stable/user_guide/indexing.html#returning-a-view-versus-a-copy\n",
            "  exec(code_obj, self.user_global_ns, self.user_ns)\n"
          ],
          "name": "stderr"
        }
      ]
    },
    {
      "cell_type": "code",
      "metadata": {
        "colab": {
          "base_uri": "https://localhost:8080/"
        },
        "id": "vvhPeVlAAXVk",
        "outputId": "d9eaf067-0340-4a49-e92f-eb7d4d2b930b"
      },
      "source": [
        "#6:26am 14-02-2021\n",
        "#Testing Model\n",
        "\n",
        "#1.0\n",
        "td = pd.read_csv('test.csv')\n",
        "ed = pd.read_csv('gender_submission.csv')\n",
        "\n",
        "#2.0 - Represent Dimorphic Sex\n",
        "td['Sex'][td['Sex']=='male'], td['Sex'][td['Sex']=='female']= 1, 0\n",
        "\n",
        "#3.0 - Label Dataset\n",
        "test_data = td[['Pclass','Sex','Age','SibSp','Parch','Fare']]\n",
        "expected = ed[['Survived']]\n",
        "\n",
        "\n",
        "#test_size = int(float(input('Input Test Size Ratio: ')) * test_data.shape[0])\n",
        "test_size = test_data.shape[0]\n",
        "\n",
        "\n",
        "\n",
        "#4.0 - Circumvent Null Error\n",
        "\n",
        "#4.1 - Recognise Error\n",
        "#print(test_data[test_data['Age'].isnull()])\n",
        "#print(expected[expected['Survived'].isnull()])\n",
        "\n",
        "#4.2 - Fix Error\n",
        "try:\n",
        "  test_data['Fare'][test_data[test_data['Fare'].isnull()].index] = 0\n",
        "  test_data['Age'][test_data[test_data['Age'].isnull()].index] = 0\n",
        "except BaseException as be: print(be)\n",
        "#test_data = test_data.dropna()\n",
        "\n",
        "#4.3 - Confirm Fix\n",
        "print('Fixed Error:',not np.any(test_data.isnull()))\n",
        "print(f'Input Data: {test_data.shape}\\nOutput Data: {expected.shape}')\n",
        "\n",
        "\n",
        "\n",
        "#5.0 - Test Model\n",
        "model = joblib.load('titanic-survival_DTC.joblib')\n",
        "\n",
        "\n",
        "pred = model.predict((test_data.iloc[:test_size]))\n",
        "score = round(((acsc(expected.iloc[:test_size],pred))*100),1)\n",
        "print(f'Accuracy: {score}%\\n\\n\\n')"
      ],
      "execution_count": 87,
      "outputs": [
        {
          "output_type": "stream",
          "text": [
            "Fixed Error: True\n",
            "Input Data: (418, 6)\n",
            "Output Data: (418, 1)\n",
            "Accuracy: 77.8%\n",
            "\n",
            "\n",
            "\n"
          ],
          "name": "stdout"
        },
        {
          "output_type": "stream",
          "text": [
            "/usr/local/lib/python3.6/dist-packages/ipykernel_launcher.py:9: SettingWithCopyWarning: \n",
            "A value is trying to be set on a copy of a slice from a DataFrame\n",
            "\n",
            "See the caveats in the documentation: https://pandas.pydata.org/pandas-docs/stable/user_guide/indexing.html#returning-a-view-versus-a-copy\n",
            "  if __name__ == '__main__':\n",
            "/usr/local/lib/python3.6/dist-packages/ipykernel_launcher.py:29: SettingWithCopyWarning: \n",
            "A value is trying to be set on a copy of a slice from a DataFrame\n",
            "\n",
            "See the caveats in the documentation: https://pandas.pydata.org/pandas-docs/stable/user_guide/indexing.html#returning-a-view-versus-a-copy\n",
            "/usr/local/lib/python3.6/dist-packages/pandas/core/series.py:1060: SettingWithCopyWarning: \n",
            "A value is trying to be set on a copy of a slice from a DataFrame\n",
            "\n",
            "See the caveats in the documentation: https://pandas.pydata.org/pandas-docs/stable/user_guide/indexing.html#returning-a-view-versus-a-copy\n",
            "  self._set_labels(key, value)\n",
            "/usr/local/lib/python3.6/dist-packages/IPython/core/interactiveshell.py:2882: SettingWithCopyWarning: \n",
            "A value is trying to be set on a copy of a slice from a DataFrame\n",
            "\n",
            "See the caveats in the documentation: https://pandas.pydata.org/pandas-docs/stable/user_guide/indexing.html#returning-a-view-versus-a-copy\n",
            "  exec(code_obj, self.user_global_ns, self.user_ns)\n",
            "/usr/local/lib/python3.6/dist-packages/ipykernel_launcher.py:30: SettingWithCopyWarning: \n",
            "A value is trying to be set on a copy of a slice from a DataFrame\n",
            "\n",
            "See the caveats in the documentation: https://pandas.pydata.org/pandas-docs/stable/user_guide/indexing.html#returning-a-view-versus-a-copy\n"
          ],
          "name": "stderr"
        }
      ]
    },
    {
      "cell_type": "code",
      "metadata": {
        "colab": {
          "base_uri": "https://localhost:8080/"
        },
        "id": "wYVNFkq2PaiP",
        "outputId": "8bd5117b-71f1-4f17-ef76-ed080b983d44"
      },
      "source": [
        "#Practical Use Case\n",
        "#11:00pm 14-02-2021\n",
        "\n",
        "#1.0\n",
        "surv, arr = \"\", []\n",
        "\n",
        "\n",
        "#2.0\n",
        "print(f'Example of Input Data:\\n{test_data.head(5)}\\n\\n\\nInput Data:')\n",
        "arr.append([int(input('Boarding Class: ')),int(input('Gender [ Female = 0, Male = 1 ]: ')),float(input('Age: ')),int(input('Number of Sibling(s)/Spouse(s) onboard: ')),int(input('Number of Parent(s)/Child(ren) onboard: ')),float(input('Fare: '))])\n",
        "\n",
        "#3.0\n",
        "model = joblib.load('titanic-survival_GNB.joblib')\n",
        "surv = model.predict(arr)[0]\n",
        "\n",
        "#4.0\n",
        "if surv>0: outcome = \"You would've survived...\"\n",
        "else: outcome = 'Gloomy Prediction...'\n",
        "template = f'''\n",
        "\\n\\n\\n\\n\n",
        "R E S U L T :\n",
        "+---------------------+\n",
        "\n",
        "\n",
        "{outcome}\t\t\t\t\t\t\t\t\t\n",
        "\t\t\t\t\t\t\t\t\t\t\t\n",
        "\t\t\t\t\t\t\t\t\t\t\t\n",
        "+---------------------+'''\n",
        "print(template)"
      ],
      "execution_count": 88,
      "outputs": [
        {
          "output_type": "stream",
          "text": [
            "Example of Input Data:\n",
            "   Pclass Sex   Age  SibSp  Parch     Fare\n",
            "0       3   1  34.5      0      0   7.8292\n",
            "1       3   0  47.0      1      0   7.0000\n",
            "2       2   1  62.0      0      0   9.6875\n",
            "3       3   1  27.0      0      0   8.6625\n",
            "4       3   0  22.0      1      1  12.2875\n",
            "\n",
            "\n",
            "Input Data:\n",
            "Boarding Class: 1\n",
            "Gender [ Female = 0, Male = 1 ]: 0\n",
            "Age: 18\n",
            "Number of Sibling(s)/Spouse(s) onboard: 1\n",
            "Number of Parent(s)/Child(ren) onboard: 3\n",
            "Fare: 20\n",
            "\n",
            "\n",
            "\n",
            "\n",
            "\n",
            "\n",
            "R E S U L T :\n",
            "+---------------------+\n",
            "\n",
            "\n",
            "You would've survived...\t\t\t\t\t\t\t\t\t\n",
            "\t\t\t\t\t\t\t\t\t\t\t\n",
            "\t\t\t\t\t\t\t\t\t\t\t\n",
            "+---------------------+\n"
          ],
          "name": "stdout"
        }
      ]
    }
  ]
}