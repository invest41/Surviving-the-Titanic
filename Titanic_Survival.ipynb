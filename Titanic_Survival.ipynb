{
  "nbformat": 4,
  "nbformat_minor": 0,
  "metadata": {
    "colab": {
      "name": "Titanic Survival.ipynb",
      "provenance": [],
      "collapsed_sections": [],
      "authorship_tag": "ABX9TyNnbOsBi/P9NA3YL97BSKk0",
      "include_colab_link": true
    },
    "kernelspec": {
      "name": "python3",
      "display_name": "Python 3"
    }
  },
  "cells": [
    {
      "cell_type": "markdown",
      "metadata": {
        "id": "view-in-github",
        "colab_type": "text"
      },
      "source": [
        "<a href=\"https://colab.research.google.com/github/invest41/Surviving-the-Titanic/blob/main/Titanic_Survival.ipynb\" target=\"_parent\"><img src=\"https://colab.research.google.com/assets/colab-badge.svg\" alt=\"Open In Colab\"/></a>"
      ]
    },
    {
      "cell_type": "code",
      "metadata": {
        "id": "tnXYaBqq5nNd",
        "colab": {
          "base_uri": "https://localhost:8080/"
        },
        "outputId": "97e96959-2cb7-4c9f-fda4-1762f0331bf3"
      },
      "source": [
        "#6:08am 14-02-2021\n",
        "import pandas as pd, numpy as np, seaborn as sns\n",
        "import matplotlib.pyplot as plt\n",
        "%matplotlib inline\n",
        "from sklearn.tree import DecisionTreeClassifier as DTC\n",
        "from sklearn.naive_bayes import GaussianNB as GNB\n",
        "\n",
        "from sklearn.metrics import accuracy_score as acsc\n",
        "from sklearn.model_selection import train_test_split as tts\n",
        "import joblib, time\n",
        "print('Library Import Complete...')"
      ],
      "execution_count": 63,
      "outputs": [
        {
          "output_type": "stream",
          "text": [
            "Library Import Complete...\n"
          ],
          "name": "stdout"
        }
      ]
    },
    {
      "cell_type": "code",
      "metadata": {
        "colab": {
          "base_uri": "https://localhost:8080/"
        },
        "id": "itDfF_7N6bl-",
        "outputId": "4ab881bc-2382-41f7-97f9-4e93b04130e6"
      },
      "source": [
        "#6:12am 14-02-2021\n",
        "#Training Model\n",
        "\n",
        "#1.0\n",
        "df = pd.read_csv('train.csv')\n",
        "X = df[['Pclass','Age','SibSp','Parch','Fare']]\n",
        "Y = df[['Survived']]\n",
        "\n",
        "#2.0 - Circumvent Null Error (Data Cleaning)\n",
        "X['Age'][X[X['Age'].isnull()].index] = 0\n",
        "\n",
        "\n",
        "\n",
        "\n",
        "m1 = m2 = mt = count = 0\n",
        "tick = time.time()\n",
        "while True:\n",
        " #X1,X2,Y1,Y2 = tts(X,Y)\n",
        " if (m1 == 1 or m2==1) and mt==0: \n",
        "   print(f'{count} Trial(s)')\n",
        "   mt=1\n",
        " count+=1\n",
        " model1 = DTC()\n",
        " model1.fit(X,Y)\n",
        "\n",
        " model2 = GNB()\n",
        " model2.fit(X,Y['Survived'])\n",
        "\n",
        " #Regurgitative Prediction\n",
        " pred1 = model1.predict(X)\n",
        " pred2 = model2.predict(X)\n",
        " \n",
        " score1 = round(((acsc(Y,pred1))*100),1)\n",
        " score2 = round(((acsc(Y,pred1))*100),1)\n",
        " \n",
        " if score1>60 and m1==0:\n",
        "   m1+=1\n",
        "   tickk = time.time()\n",
        "   print(f'Data Size: {X.size} people\\nDecision Tree Accuracy: {score1}%\\nTime: {round(((tickk-tick)*1000),2)}ms')\n",
        "   joblib.dump(model1,'titanic-survival_DTC.joblib')\n",
        " if score2>60 and m2==0:\n",
        "   m2+=1\n",
        "   tock = time.time()\n",
        "   print(f'\\nData Size: {X.size} people\\nGausian NB Accuracy: {score2}%\\nTime: {round(((tock-tick)*1000),2)}ms')\n",
        "   joblib.dump(model2,'titanic-survival_GNB.joblib')\n",
        " if m1==m2==1: \n",
        "   print(f'\\n{count} Trial(s)\\n\\n\\n')\n",
        "   break\n",
        "\n",
        "\n"
      ],
      "execution_count": 64,
      "outputs": [
        {
          "output_type": "stream",
          "text": [
            "Data Size: 4455 people\n",
            "Decision Tree Accuracy: 95.7%\n",
            "Time: 8.94ms\n",
            "\n",
            "Data Size: 4455 people\n",
            "Gausian NB Accuracy: 95.7%\n",
            "Time: 10.78ms\n",
            "\n",
            "1 Trial(s)\n",
            "\n",
            "\n",
            "\n"
          ],
          "name": "stdout"
        },
        {
          "output_type": "stream",
          "text": [
            "/usr/local/lib/python3.6/dist-packages/ipykernel_launcher.py:10: SettingWithCopyWarning: \n",
            "A value is trying to be set on a copy of a slice from a DataFrame\n",
            "\n",
            "See the caveats in the documentation: https://pandas.pydata.org/pandas-docs/stable/user_guide/indexing.html#returning-a-view-versus-a-copy\n",
            "  # Remove the CWD from sys.path while we load stuff.\n",
            "/usr/local/lib/python3.6/dist-packages/pandas/core/series.py:1060: SettingWithCopyWarning: \n",
            "A value is trying to be set on a copy of a slice from a DataFrame\n",
            "\n",
            "See the caveats in the documentation: https://pandas.pydata.org/pandas-docs/stable/user_guide/indexing.html#returning-a-view-versus-a-copy\n",
            "  self._set_labels(key, value)\n",
            "/usr/local/lib/python3.6/dist-packages/IPython/core/interactiveshell.py:2882: SettingWithCopyWarning: \n",
            "A value is trying to be set on a copy of a slice from a DataFrame\n",
            "\n",
            "See the caveats in the documentation: https://pandas.pydata.org/pandas-docs/stable/user_guide/indexing.html#returning-a-view-versus-a-copy\n",
            "  exec(code_obj, self.user_global_ns, self.user_ns)\n"
          ],
          "name": "stderr"
        }
      ]
    },
    {
      "cell_type": "code",
      "metadata": {
        "colab": {
          "base_uri": "https://localhost:8080/"
        },
        "id": "vvhPeVlAAXVk",
        "outputId": "9a6bf873-c75d-47cc-91e7-b3195250f583"
      },
      "source": [
        "#6:26am 14-02-2021\n",
        "#Testing Model\n",
        "\n",
        "#1.0\n",
        "td = pd.read_csv('test.csv')\n",
        "ed = pd.read_csv('gender_submission.csv')\n",
        "test_data = td[['Pclass','Age','SibSp','Parch','Fare']]\n",
        "expected = ed[['Survived']]\n",
        "\n",
        "#test_size = int(float(input('Input Test Size Ratio: ')) * test_data.shape[0])\n",
        "test_size = test_data.shape[0]\n",
        "\n",
        "\n",
        "\n",
        "#2.0 - Circumvent Null Error\n",
        "#print(test_data[test_data['Age'].isnull()])\n",
        "#print(expected[expected['Survived'].isnull()])\n",
        "try:\n",
        "  test_data['Fare'][test_data[test_data['Fare'].isnull()].index] = 0\n",
        "  test_data['Age'][test_data[test_data['Age'].isnull()].index] = 0\n",
        "except BaseException as be: print(be)\n",
        "\n",
        "#test_data = test_data.dropna()\n",
        "#Confirm Fix\n",
        "print('Fixed Error:',not np.any(test_data.isnull()))\n",
        "print(f'Input Data: {test_data.shape}\\nOutput Data: {expected.shape}')\n",
        "\n",
        "\n",
        "\n",
        "#3.0 - Test Model\n",
        "model = joblib.load('titanic-survival_DTC.joblib')\n",
        "\n",
        "\n",
        "pred = model.predict((test_data.iloc[:test_size]))\n",
        "score = round(((acsc(expected.iloc[:test_size],pred))*100),1)\n",
        "print(f'Accuracy: {score}%\\n\\n\\n')"
      ],
      "execution_count": 67,
      "outputs": [
        {
          "output_type": "stream",
          "text": [
            "Fixed Error: True\n",
            "Input Data: (418, 5)\n",
            "Output Data: (418, 1)\n",
            "Accuracy: 60.8%\n",
            "\n",
            "\n",
            "\n"
          ],
          "name": "stdout"
        },
        {
          "output_type": "stream",
          "text": [
            "/usr/local/lib/python3.6/dist-packages/ipykernel_launcher.py:19: SettingWithCopyWarning: \n",
            "A value is trying to be set on a copy of a slice from a DataFrame\n",
            "\n",
            "See the caveats in the documentation: https://pandas.pydata.org/pandas-docs/stable/user_guide/indexing.html#returning-a-view-versus-a-copy\n",
            "/usr/local/lib/python3.6/dist-packages/pandas/core/series.py:1060: SettingWithCopyWarning: \n",
            "A value is trying to be set on a copy of a slice from a DataFrame\n",
            "\n",
            "See the caveats in the documentation: https://pandas.pydata.org/pandas-docs/stable/user_guide/indexing.html#returning-a-view-versus-a-copy\n",
            "  self._set_labels(key, value)\n",
            "/usr/local/lib/python3.6/dist-packages/IPython/core/interactiveshell.py:2882: SettingWithCopyWarning: \n",
            "A value is trying to be set on a copy of a slice from a DataFrame\n",
            "\n",
            "See the caveats in the documentation: https://pandas.pydata.org/pandas-docs/stable/user_guide/indexing.html#returning-a-view-versus-a-copy\n",
            "  exec(code_obj, self.user_global_ns, self.user_ns)\n",
            "/usr/local/lib/python3.6/dist-packages/ipykernel_launcher.py:20: SettingWithCopyWarning: \n",
            "A value is trying to be set on a copy of a slice from a DataFrame\n",
            "\n",
            "See the caveats in the documentation: https://pandas.pydata.org/pandas-docs/stable/user_guide/indexing.html#returning-a-view-versus-a-copy\n"
          ],
          "name": "stderr"
        }
      ]
    },
    {
      "cell_type": "code",
      "metadata": {
        "colab": {
          "base_uri": "https://localhost:8080/"
        },
        "id": "wYVNFkq2PaiP",
        "outputId": "b0687bed-bae6-447e-a5c3-7513cd9e01bb"
      },
      "source": [
        "print(test_data.head(10),expected.head(10),sep='\\n\\n')"
      ],
      "execution_count": 57,
      "outputs": [
        {
          "output_type": "stream",
          "text": [
            "   Pclass   Age  SibSp  Parch     Fare\n",
            "0       3  34.5      0      0   7.8292\n",
            "1       3  47.0      1      0   7.0000\n",
            "2       2  62.0      0      0   9.6875\n",
            "3       3  27.0      0      0   8.6625\n",
            "4       3  22.0      1      1  12.2875\n",
            "5       3  14.0      0      0   9.2250\n",
            "6       3  30.0      0      0   7.6292\n",
            "7       2  26.0      1      1  29.0000\n",
            "8       3  18.0      0      0   7.2292\n",
            "9       3  21.0      2      0  24.1500\n",
            "\n",
            "   Survived\n",
            "0         0\n",
            "1         1\n",
            "2         0\n",
            "3         0\n",
            "4         1\n",
            "5         0\n",
            "6         1\n",
            "7         0\n",
            "8         1\n",
            "9         0\n"
          ],
          "name": "stdout"
        }
      ]
    }
  ]
}